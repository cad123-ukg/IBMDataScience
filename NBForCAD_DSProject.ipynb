{
    "cells": [
        {
            "metadata": {},
            "cell_type": "code",
            "source": "a = \"IBM Watson CADDataScience_Project\"\n",
            "execution_count": 5,
            "outputs": []
        },
        {
            "metadata": {},
            "cell_type": "code",
            "source": "print(a)",
            "execution_count": 6,
            "outputs": [
                {
                    "output_type": "stream",
                    "text": "IBM Watson CADDataScience_Project\n",
                    "name": "stdout"
                }
            ]
        },
        {
            "metadata": {},
            "cell_type": "markdown",
            "source": "# My Jupyter Notebook on IBM Watson Studio\n\n"
        },
        {
            "metadata": {},
            "cell_type": "markdown",
            "source": "## Chandrashekhar A. Deodhar\nData Scientist"
        },
        {
            "metadata": {},
            "cell_type": "markdown",
            "source": "_I am interested in Data Science because_"
        },
        {
            "metadata": {},
            "cell_type": "markdown",
            "source": "\n### The code in the below cell adds up the numbers 1 to 100."
        },
        {
            "metadata": {},
            "cell_type": "code",
            "source": "\n# Formula to sum up the first n natural numbers.\n\nn = 100\n\nSum_of_1_to_n = n*(n+1)/2\n\n# The answer is a float due to division operation. Therefore, cast to integer type.\n\nSum_of_1_to_n = int(Sum_of_1_to_n)\n\nprint(Sum_of_1_to_n)\n\n",
            "execution_count": 12,
            "outputs": [
                {
                    "output_type": "stream",
                    "text": "5050\n",
                    "name": "stdout"
                }
            ]
        },
        {
            "metadata": {},
            "cell_type": "markdown",
            "source": "If we need to correct an error in typed text, we can do a ~strikethrough~, for example, ~A, B, C, D, G~ and write A, B, C, D, E, F, G which is the correct sequence.\n\nHere is what I heard back from the hotel where I stayed last month-\n> Dear Sir, We will review your request to recalculate your last month's hotel stay charges. Once the review is complete, we will revert back to you. This should normally take between 2 - 4 business days. Thank you for your patience during this time.\n\n> Sincerely,\n> Hotel Management\n\n"
        },
        {
            "metadata": {},
            "cell_type": "markdown",
            "source": "Markdown | Less | Pretty\n--- | --- | ---\n*Still* | `renders` | **nicely**\n1 | 2 | 3"
        },
        {
            "metadata": {},
            "cell_type": "markdown",
            "source": "+ This\n+ is\n- a\n+ bulleted\n* list.\n"
        },
        {
            "metadata": {},
            "cell_type": "code",
            "source": "",
            "execution_count": null,
            "outputs": []
        }
    ],
    "metadata": {
        "kernelspec": {
            "name": "python3",
            "display_name": "Python 3.7",
            "language": "python"
        },
        "language_info": {
            "name": "python",
            "version": "3.7.9",
            "mimetype": "text/x-python",
            "codemirror_mode": {
                "name": "ipython",
                "version": 3
            },
            "pygments_lexer": "ipython3",
            "nbconvert_exporter": "python",
            "file_extension": ".py"
        }
    },
    "nbformat": 4,
    "nbformat_minor": 1
}